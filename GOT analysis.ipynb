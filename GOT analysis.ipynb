{
 "cells": [
  {
   "cell_type": "markdown",
   "metadata": {},
   "source": [
    "# Game of thrones Season 5 Analysis"
   ]
  },
  {
   "cell_type": "markdown",
   "metadata": {},
   "source": [
    "### List of transcrittps"
   ]
  },
  {
   "cell_type": "code",
   "execution_count": 18,
   "metadata": {
    "collapsed": true
   },
   "outputs": [],
   "source": [
    "import os\n",
    "import matplotlib.pyplot as plt\n",
    "%matplotlib inline "
   ]
  },
  {
   "cell_type": "code",
   "execution_count": 3,
   "metadata": {
    "collapsed": false
   },
   "outputs": [
    {
     "name": "stdout",
     "output_type": "stream",
     "text": [
      "s5 e1.txt\n",
      "s5 e10.txt\n",
      "s5 e2.txt\n",
      "s5 e3.txt\n",
      "s5 e4.txt\n",
      "s5 e5.txt\n",
      "s5 e6.txt\n",
      "s5 e7.txt\n",
      "s5 e8.txt\n",
      "s5 e9.txt\n"
     ]
    }
   ],
   "source": [
    "datapath = os.getcwd()+\"/transcripts\"\n",
    "for filename in os.listdir(datapath):\n",
    "   print filename"
   ]
  },
  {
   "cell_type": "markdown",
   "metadata": {},
   "source": [
    "### Reading data from the file"
   ]
  },
  {
   "cell_type": "code",
   "execution_count": 4,
   "metadata": {
    "collapsed": false
   },
   "outputs": [],
   "source": [
    "text = []\n",
    "for f in os.listdir(datapath):\n",
    "        fil = open(datapath+\"/\"+f)\n",
    "        content = fil.read()\n",
    "        #removing non Ascii characters from the text\n",
    "        content =  ''.join([i if ord(i) < 128 else '' for i in content])\n",
    "        #content = content.split(\"\\n\")\n",
    "        text.append(content)"
   ]
  },
  {
   "cell_type": "markdown",
   "metadata": {},
   "source": [
    "### TF IDF vectorizer"
   ]
  },
  {
   "cell_type": "code",
   "execution_count": 5,
   "metadata": {
    "collapsed": true
   },
   "outputs": [],
   "source": [
    "from sklearn.feature_extraction.text import TfidfVectorizer\n",
    "tf = TfidfVectorizer(analyzer='word', ngram_range=(1,3), min_df = 0, stop_words = 'english')"
   ]
  },
  {
   "cell_type": "code",
   "execution_count": 6,
   "metadata": {
    "collapsed": false
   },
   "outputs": [
    {
     "data": {
      "text/plain": [
       "57262"
      ]
     },
     "execution_count": 6,
     "metadata": {},
     "output_type": "execute_result"
    }
   ],
   "source": [
    "tfidf_matrix =  tf.fit_transform(text)\n",
    "feature_names = tf.get_feature_names() \n",
    "len(feature_names)"
   ]
  },
  {
   "cell_type": "code",
   "execution_count": 7,
   "metadata": {
    "collapsed": false
   },
   "outputs": [
    {
     "data": {
      "text/plain": [
       "[u'20 malko',\n",
       " u'20 malko sold',\n",
       " u'20 men',\n",
       " u'20 men maybe',\n",
       " u'20 men rode',\n",
       " u'20 podrick',\n",
       " u'20 podrick 10',\n",
       " u'20 prostitute',\n",
       " u'20 prostitute poses',\n",
       " u'20 years',\n",
       " u'20 years people',\n",
       " u'20 years spider',\n",
       " u'300',\n",
       " u'300 yards',\n",
       " u'300 yards castle',\n",
       " u'40',\n",
       " u'40 army',\n",
       " u'40 army unlike',\n",
       " u'40 horses',\n",
       " u'40 horses died',\n",
       " u'50',\n",
       " u'50 brothers',\n",
       " u'50 brothers forget',\n",
       " u'50 brothers night',\n",
       " u'50 men',\n",
       " u'50 men flaming',\n",
       " u'50 men men',\n",
       " u'500',\n",
       " u'500 men',\n",
       " u'500 men daavos']"
      ]
     },
     "execution_count": 7,
     "metadata": {},
     "output_type": "execute_result"
    }
   ],
   "source": [
    "feature_names[70:100]"
   ]
  },
  {
   "cell_type": "code",
   "execution_count": 8,
   "metadata": {
    "collapsed": false
   },
   "outputs": [
    {
     "data": {
      "text/plain": [
       "<10x57262 sparse matrix of type '<type 'numpy.float64'>'\n",
       "\twith 66577 stored elements in Compressed Sparse Row format>"
      ]
     },
     "execution_count": 8,
     "metadata": {},
     "output_type": "execute_result"
    }
   ],
   "source": [
    "tfidf_matrix"
   ]
  },
  {
   "cell_type": "code",
   "execution_count": 9,
   "metadata": {
    "collapsed": false
   },
   "outputs": [
    {
     "data": {
      "text/plain": [
       "57262"
      ]
     },
     "execution_count": 9,
     "metadata": {},
     "output_type": "execute_result"
    }
   ],
   "source": [
    "dense = tfidf_matrix.todense()\n",
    "len(dense[0].tolist()[0])"
   ]
  },
  {
   "cell_type": "code",
   "execution_count": 10,
   "metadata": {
    "collapsed": false
   },
   "outputs": [
    {
     "data": {
      "text/plain": [
       "5805"
      ]
     },
     "execution_count": 10,
     "metadata": {},
     "output_type": "execute_result"
    }
   ],
   "source": [
    "episode = dense[0].tolist()[0]\n",
    "phrase_scores = [pair for pair in zip(range(0, len(episode)), episode) if pair[1] > 0]\n",
    " \n",
    "len(phrase_scores)"
   ]
  },
  {
   "cell_type": "code",
   "execution_count": 11,
   "metadata": {
    "collapsed": false
   },
   "outputs": [
    {
     "data": {
      "text/plain": [
       "[(6791, 0.22707947845529866),\n",
       " (23863, 0.17815152828533734),\n",
       " (52617, 0.13730493542924124),\n",
       " (30028, 0.13300076782046769),\n",
       " (29245, 0.12176853138812187)]"
      ]
     },
     "execution_count": 11,
     "metadata": {},
     "output_type": "execute_result"
    }
   ],
   "source": [
    "sorted(phrase_scores, key=lambda t: t[1] * -1)[:5]"
   ]
  },
  {
   "cell_type": "code",
   "execution_count": 12,
   "metadata": {
    "collapsed": false
   },
   "outputs": [
    {
     "data": {
      "text/plain": [
       "u'rivals'"
      ]
     },
     "execution_count": 12,
     "metadata": {},
     "output_type": "execute_result"
    }
   ],
   "source": [
    "feature_names[39953]"
   ]
  },
  {
   "cell_type": "markdown",
   "metadata": {},
   "source": [
    "### Top words based on Tf-idf scores"
   ]
  },
  {
   "cell_type": "code",
   "execution_count": 13,
   "metadata": {
    "collapsed": false
   },
   "outputs": [
    {
     "name": "stdout",
     "output_type": "stream",
     "text": [
      "cersei               0.227079478455\n",
      "jon                  0.178151528285\n",
      "varys                0.137304935429\n",
      "maggy                0.13300076782\n",
      "loras                0.121768531388\n",
      "mance                0.121505582499\n",
      "youre                0.114703508556\n",
      "royce                0.112539111233\n",
      "tyrion               0.105911228129\n",
      "dont                 0.104456560089\n",
      "daenerys             0.0945635965438\n",
      "im                   0.086290201813\n",
      "melara               0.0818466263511\n",
      "stannis              0.075650877235\n",
      "margaery             0.0729033494992\n",
      "lancel               0.0668280703743\n",
      "baelish              0.065906369006\n",
      "walks                0.0643032456498\n",
      "melisandre           0.0604141715889\n",
      "unsullied            0.0604141715889\n"
     ]
    }
   ],
   "source": [
    "sorted_phrase_scores = sorted(phrase_scores, key=lambda t: t[1] * -1)\n",
    "for phrase, score in [(feature_names[word_id], score) for (word_id, score) in sorted_phrase_scores][:20]:\n",
    "    print('{0: <20} {1}'.format(phrase, score))"
   ]
  },
  {
   "cell_type": "code",
   "execution_count": 24,
   "metadata": {
    "collapsed": false
   },
   "outputs": [
    {
     "name": "stdout",
     "output_type": "stream",
     "text": [
      "<FreqDist with 57262 samples and 57262 outcomes>\n"
     ]
    }
   ],
   "source": [
    "import nltk\n",
    "#A frequency distribution records the number of times each outcome of an experiment has occurred.\n",
    "all_words = nltk.FreqDist(feature_names)\n",
    "print all_words"
   ]
  },
  {
   "cell_type": "code",
   "execution_count": null,
   "metadata": {
    "collapsed": false
   },
   "outputs": [],
   "source": []
  },
  {
   "cell_type": "code",
   "execution_count": null,
   "metadata": {
    "collapsed": true
   },
   "outputs": [],
   "source": []
  }
 ],
 "metadata": {
  "kernelspec": {
   "display_name": "Python 2",
   "language": "python",
   "name": "python2"
  },
  "language_info": {
   "codemirror_mode": {
    "name": "ipython",
    "version": 2
   },
   "file_extension": ".py",
   "mimetype": "text/x-python",
   "name": "python",
   "nbconvert_exporter": "python",
   "pygments_lexer": "ipython2",
   "version": "2.7.10"
  }
 },
 "nbformat": 4,
 "nbformat_minor": 0
}
